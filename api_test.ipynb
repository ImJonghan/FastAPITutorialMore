{
 "cells": [
  {
   "cell_type": "code",
   "execution_count": 1,
   "metadata": {},
   "outputs": [],
   "source": [
    "import requests"
   ]
  },
  {
   "cell_type": "code",
   "execution_count": 3,
   "metadata": {},
   "outputs": [
    {
     "name": "stdout",
     "output_type": "stream",
     "text": [
      "이미지가 성공적으로 처리되어 'response_image.png'로 저장되었습니다.\n"
     ]
    }
   ],
   "source": [
    "url = 'http://127.0.0.1:8000/upload/'  # FastAPI 서버 URL 및 엔드포인트\n",
    "# files = {'file': open('a.jpg', 'rb')}  # 파일 열기\n",
    "files = {'file': ('dalle.jpg', open('dalle.jpg', 'rb'), 'image/jpeg')}  # Content-Type 명시\n",
    "\n",
    "response = requests.post(url, files=files)  # POST 요청 보내기\n",
    "\n",
    "if response.status_code == 200:\n",
    "    with open('response_image.png', 'wb') as f:\n",
    "        f.write(response.content)  # 받은 이미지 저장\n",
    "    print(\"이미지가 성공적으로 처리되어 'response_image.png'로 저장되었습니다.\")\n",
    "else:\n",
    "    print(\"에러:\", response.status_code, response.text)"
   ]
  },
  {
   "cell_type": "code",
   "execution_count": null,
   "metadata": {},
   "outputs": [],
   "source": []
  }
 ],
 "metadata": {
  "kernelspec": {
   "display_name": "fast",
   "language": "python",
   "name": "python3"
  },
  "language_info": {
   "codemirror_mode": {
    "name": "ipython",
    "version": 3
   },
   "file_extension": ".py",
   "mimetype": "text/x-python",
   "name": "python",
   "nbconvert_exporter": "python",
   "pygments_lexer": "ipython3",
   "version": "3.10.14"
  }
 },
 "nbformat": 4,
 "nbformat_minor": 2
}
